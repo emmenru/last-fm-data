{
  "nbformat": 4,
  "nbformat_minor": 0,
  "metadata": {
    "colab": {
      "provenance": []
    },
    "kernelspec": {
      "name": "python3",
      "display_name": "Python 3"
    },
    "language_info": {
      "name": "python"
    }
  },
  "cells": [
    {
      "cell_type": "markdown",
      "source": [
        "# Music Discovery AI Agent"
      ],
      "metadata": {
        "id": "RMLVf2tNXkjS"
      }
    },
    {
      "cell_type": "markdown",
      "source": [
        "## Setup and installation"
      ],
      "metadata": {
        "id": "mmB5LkE8YVkk"
      }
    },
    {
      "cell_type": "code",
      "source": [
        "# CELL 1: MINIMAL SETUP\n",
        "!pip install langgraph requests\n",
        "\n",
        "# Mount Google Drive\n",
        "from google.colab import drive\n",
        "drive.mount('/content/drive', force_remount=True)"
      ],
      "metadata": {
        "colab": {
          "base_uri": "https://localhost:8080/"
        },
        "id": "MBreQ0ccXw3-",
        "outputId": "67e8f7e3-fae9-4563-eece-92f932276c6d"
      },
      "execution_count": 1,
      "outputs": [
        {
          "output_type": "stream",
          "name": "stdout",
          "text": [
            "Collecting langgraph\n",
            "  Downloading langgraph-0.5.1-py3-none-any.whl.metadata (6.7 kB)\n",
            "Requirement already satisfied: requests in /usr/local/lib/python3.11/dist-packages (2.32.3)\n",
            "Requirement already satisfied: langchain-core>=0.1 in /usr/local/lib/python3.11/dist-packages (from langgraph) (0.3.67)\n",
            "Collecting langgraph-checkpoint<3.0.0,>=2.1.0 (from langgraph)\n",
            "  Downloading langgraph_checkpoint-2.1.0-py3-none-any.whl.metadata (4.2 kB)\n",
            "Collecting langgraph-prebuilt<0.6.0,>=0.5.0 (from langgraph)\n",
            "  Downloading langgraph_prebuilt-0.5.2-py3-none-any.whl.metadata (4.5 kB)\n",
            "Collecting langgraph-sdk<0.2.0,>=0.1.42 (from langgraph)\n",
            "  Downloading langgraph_sdk-0.1.72-py3-none-any.whl.metadata (1.5 kB)\n",
            "Requirement already satisfied: pydantic>=2.7.4 in /usr/local/lib/python3.11/dist-packages (from langgraph) (2.11.7)\n",
            "Requirement already satisfied: xxhash>=3.5.0 in /usr/local/lib/python3.11/dist-packages (from langgraph) (3.5.0)\n",
            "Requirement already satisfied: charset-normalizer<4,>=2 in /usr/local/lib/python3.11/dist-packages (from requests) (3.4.2)\n",
            "Requirement already satisfied: idna<4,>=2.5 in /usr/local/lib/python3.11/dist-packages (from requests) (3.10)\n",
            "Requirement already satisfied: urllib3<3,>=1.21.1 in /usr/local/lib/python3.11/dist-packages (from requests) (2.4.0)\n",
            "Requirement already satisfied: certifi>=2017.4.17 in /usr/local/lib/python3.11/dist-packages (from requests) (2025.6.15)\n",
            "Requirement already satisfied: langsmith>=0.3.45 in /usr/local/lib/python3.11/dist-packages (from langchain-core>=0.1->langgraph) (0.4.4)\n",
            "Requirement already satisfied: tenacity!=8.4.0,<10.0.0,>=8.1.0 in /usr/local/lib/python3.11/dist-packages (from langchain-core>=0.1->langgraph) (8.5.0)\n",
            "Requirement already satisfied: jsonpatch<2.0,>=1.33 in /usr/local/lib/python3.11/dist-packages (from langchain-core>=0.1->langgraph) (1.33)\n",
            "Requirement already satisfied: PyYAML>=5.3 in /usr/local/lib/python3.11/dist-packages (from langchain-core>=0.1->langgraph) (6.0.2)\n",
            "Requirement already satisfied: packaging<25,>=23.2 in /usr/local/lib/python3.11/dist-packages (from langchain-core>=0.1->langgraph) (24.2)\n",
            "Requirement already satisfied: typing-extensions>=4.7 in /usr/local/lib/python3.11/dist-packages (from langchain-core>=0.1->langgraph) (4.14.0)\n",
            "Collecting ormsgpack>=1.10.0 (from langgraph-checkpoint<3.0.0,>=2.1.0->langgraph)\n",
            "  Downloading ormsgpack-1.10.0-cp311-cp311-manylinux_2_17_x86_64.manylinux2014_x86_64.whl.metadata (43 kB)\n",
            "\u001b[2K     \u001b[90m━━━━━━━━━━━━━━━━━━━━━━━━━━━━━━━━━━━━━━━━\u001b[0m \u001b[32m43.7/43.7 kB\u001b[0m \u001b[31m1.7 MB/s\u001b[0m eta \u001b[36m0:00:00\u001b[0m\n",
            "\u001b[?25hRequirement already satisfied: httpx>=0.25.2 in /usr/local/lib/python3.11/dist-packages (from langgraph-sdk<0.2.0,>=0.1.42->langgraph) (0.28.1)\n",
            "Requirement already satisfied: orjson>=3.10.1 in /usr/local/lib/python3.11/dist-packages (from langgraph-sdk<0.2.0,>=0.1.42->langgraph) (3.10.18)\n",
            "Requirement already satisfied: annotated-types>=0.6.0 in /usr/local/lib/python3.11/dist-packages (from pydantic>=2.7.4->langgraph) (0.7.0)\n",
            "Requirement already satisfied: pydantic-core==2.33.2 in /usr/local/lib/python3.11/dist-packages (from pydantic>=2.7.4->langgraph) (2.33.2)\n",
            "Requirement already satisfied: typing-inspection>=0.4.0 in /usr/local/lib/python3.11/dist-packages (from pydantic>=2.7.4->langgraph) (0.4.1)\n",
            "Requirement already satisfied: anyio in /usr/local/lib/python3.11/dist-packages (from httpx>=0.25.2->langgraph-sdk<0.2.0,>=0.1.42->langgraph) (4.9.0)\n",
            "Requirement already satisfied: httpcore==1.* in /usr/local/lib/python3.11/dist-packages (from httpx>=0.25.2->langgraph-sdk<0.2.0,>=0.1.42->langgraph) (1.0.9)\n",
            "Requirement already satisfied: h11>=0.16 in /usr/local/lib/python3.11/dist-packages (from httpcore==1.*->httpx>=0.25.2->langgraph-sdk<0.2.0,>=0.1.42->langgraph) (0.16.0)\n",
            "Requirement already satisfied: jsonpointer>=1.9 in /usr/local/lib/python3.11/dist-packages (from jsonpatch<2.0,>=1.33->langchain-core>=0.1->langgraph) (3.0.0)\n",
            "Requirement already satisfied: requests-toolbelt<2.0.0,>=1.0.0 in /usr/local/lib/python3.11/dist-packages (from langsmith>=0.3.45->langchain-core>=0.1->langgraph) (1.0.0)\n",
            "Requirement already satisfied: zstandard<0.24.0,>=0.23.0 in /usr/local/lib/python3.11/dist-packages (from langsmith>=0.3.45->langchain-core>=0.1->langgraph) (0.23.0)\n",
            "Requirement already satisfied: sniffio>=1.1 in /usr/local/lib/python3.11/dist-packages (from anyio->httpx>=0.25.2->langgraph-sdk<0.2.0,>=0.1.42->langgraph) (1.3.1)\n",
            "Downloading langgraph-0.5.1-py3-none-any.whl (143 kB)\n",
            "\u001b[2K   \u001b[90m━━━━━━━━━━━━━━━━━━━━━━━━━━━━━━━━━━━━━━━━\u001b[0m \u001b[32m143.7/143.7 kB\u001b[0m \u001b[31m4.0 MB/s\u001b[0m eta \u001b[36m0:00:00\u001b[0m\n",
            "\u001b[?25hDownloading langgraph_checkpoint-2.1.0-py3-none-any.whl (43 kB)\n",
            "\u001b[2K   \u001b[90m━━━━━━━━━━━━━━━━━━━━━━━━━━━━━━━━━━━━━━━━\u001b[0m \u001b[32m43.8/43.8 kB\u001b[0m \u001b[31m2.6 MB/s\u001b[0m eta \u001b[36m0:00:00\u001b[0m\n",
            "\u001b[?25hDownloading langgraph_prebuilt-0.5.2-py3-none-any.whl (23 kB)\n",
            "Downloading langgraph_sdk-0.1.72-py3-none-any.whl (50 kB)\n",
            "\u001b[2K   \u001b[90m━━━━━━━━━━━━━━━━━━━━━━━━━━━━━━━━━━━━━━━━\u001b[0m \u001b[32m50.1/50.1 kB\u001b[0m \u001b[31m3.3 MB/s\u001b[0m eta \u001b[36m0:00:00\u001b[0m\n",
            "\u001b[?25hDownloading ormsgpack-1.10.0-cp311-cp311-manylinux_2_17_x86_64.manylinux2014_x86_64.whl (216 kB)\n",
            "\u001b[2K   \u001b[90m━━━━━━━━━━━━━━━━━━━━━━━━━━━━━━━━━━━━━━━━\u001b[0m \u001b[32m216.5/216.5 kB\u001b[0m \u001b[31m9.8 MB/s\u001b[0m eta \u001b[36m0:00:00\u001b[0m\n",
            "\u001b[?25hInstalling collected packages: ormsgpack, langgraph-sdk, langgraph-checkpoint, langgraph-prebuilt, langgraph\n",
            "Successfully installed langgraph-0.5.1 langgraph-checkpoint-2.1.0 langgraph-prebuilt-0.5.2 langgraph-sdk-0.1.72 ormsgpack-1.10.0\n",
            "Mounted at /content/drive\n"
          ]
        }
      ]
    },
    {
      "cell_type": "markdown",
      "source": [
        "## Configuration and imports"
      ],
      "metadata": {
        "id": "orOgsqxaYO-h"
      }
    },
    {
      "cell_type": "code",
      "source": [
        "# CELL 2: CONFIGURATION AND IMPORTS\n",
        "import os\n",
        "import sqlite3\n",
        "import requests\n",
        "import json\n",
        "import re\n",
        "import sys\n",
        "from typing import TypedDict, List, Dict, Any, Tuple\n",
        "from langgraph.graph import StateGraph, END\n",
        "import ipywidgets as widgets\n",
        "from IPython.display import display, HTML, clear_output\n",
        "\n",
        "# Set up paths\n",
        "DRIVE_PATH = \"/content/drive/MyDrive/Colab-Notebooks/last-fm-data\"\n",
        "DATA_PATH = os.path.join(DRIVE_PATH, \"data\")\n",
        "DB_PATH = os.path.join(DATA_PATH, \"lastfm_data.db\")\n",
        "\n",
        "# IMPORTANT: Add to sys.path BEFORE importing\n",
        "# Python can't find the utils directory if the path isn't in sys.path\n",
        "sys.path.append(DRIVE_PATH)\n",
        "\n",
        "# Import config\n",
        "try:\n",
        "    from config.config import LASTFM_API_KEY, USERNAME\n",
        "    print(f\"Config loaded - User: {USERNAME}\")\n",
        "    lastfm_api_key = LASTFM_API_KEY\n",
        "except ImportError:\n",
        "    print(\"No config found\")\n",
        "    lastfm_api_key = None\n",
        "\n",
        "# Create directories and test database\n",
        "os.makedirs(DATA_PATH, exist_ok=True)\n",
        "print(f\"Database: {os.path.exists(DB_PATH)}\")"
      ],
      "metadata": {
        "colab": {
          "base_uri": "https://localhost:8080/"
        },
        "id": "78NWowCsYMRw",
        "outputId": "408c21ca-fc5b-433e-8a33-1425be99033d"
      },
      "execution_count": 2,
      "outputs": [
        {
          "output_type": "stream",
          "name": "stdout",
          "text": [
            "Config loaded - User: emmenru\n",
            "Database: True\n"
          ]
        }
      ]
    },
    {
      "cell_type": "markdown",
      "source": [
        "## Init Helpers: ...."
      ],
      "metadata": {
        "id": "0zihUp4cZktN"
      }
    },
    {
      "cell_type": "code",
      "source": [
        "# CELL 3: INITIALIZE HELPERS\n",
        "from utils.music_discovery_helper import (\n",
        "    AgentState, DatabaseManager, HuggingFaceHelper,\n",
        "    LastFMAPIHelper, extract_entities, classify_intent_node_hf,\n",
        "    generate_artist_info_query, generate_recommendations_query,\n",
        "    generate_genre_exploration_query, generate_listening_analysis_query,\n",
        "    execute_database_query, call_lastfm_api, generate_response_hf\n",
        ")\n",
        "\n",
        "# Initialize database and load artist names\n",
        "db_manager = DatabaseManager(DB_PATH)\n",
        "db_manager.test_connection()\n",
        "artist_names = db_manager.get_artist_names(200)\n",
        "\n",
        "# Initialize HF helper\n",
        "hf_helper = HuggingFaceHelper()\n",
        "print(\"🤗 Helpers initialized\")"
      ],
      "metadata": {
        "colab": {
          "base_uri": "https://localhost:8080/"
        },
        "id": "5M1LPd7iZ5_M",
        "outputId": "77b7e0ca-8feb-4e2e-be9a-14bba8c00b8c"
      },
      "execution_count": 3,
      "outputs": [
        {
          "output_type": "stream",
          "name": "stdout",
          "text": [
            "✅ Database: 13 tables\n",
            "📊 Loaded 200 artist names\n",
            "🤗 Helpers initialized\n"
          ]
        }
      ]
    },
    {
      "cell_type": "markdown",
      "source": [
        "## LangGraph Workflow Creation"
      ],
      "metadata": {
        "id": "khCgMu9OviPZ"
      }
    },
    {
      "cell_type": "code",
      "source": [
        "# WORKFLOW CREATION CELL\n",
        "from utils.music_discovery_helper import classify_intent_node_hf\n",
        "\n",
        "def create_hf_music_agent():\n",
        "    \"\"\"Create the LangGraph workflow using Hugging Face\"\"\"\n",
        "\n",
        "    # Create the state graph\n",
        "    workflow = StateGraph(AgentState)\n",
        "\n",
        "    # Add nodes with lambda functions to pass dependencies\n",
        "    workflow.add_node(\"classify_intent\", lambda state: classify_intent_node_hf(state, hf_helper, artist_names))\n",
        "    workflow.add_node(\"artist_info_query\", generate_artist_info_query)\n",
        "    workflow.add_node(\"recommendations_query\", generate_recommendations_query)\n",
        "    workflow.add_node(\"genre_query\", generate_genre_exploration_query)\n",
        "    workflow.add_node(\"listening_query\", generate_listening_analysis_query)\n",
        "    workflow.add_node(\"execute_query\", lambda state: execute_database_query(state, db_manager))\n",
        "    workflow.add_node(\"api_call\", lambda state: call_lastfm_api(state, lastfm_api_key))\n",
        "    workflow.add_node(\"generate_response\", generate_response_hf)\n",
        "\n",
        "    # Define the workflow logic\n",
        "    def route_after_intent(state: AgentState) -> str:\n",
        "        \"\"\"Route to appropriate query generation based on intent\"\"\"\n",
        "        intent = state.get(\"intent\", \"\")\n",
        "\n",
        "        if intent == \"ARTIST_INFO\":\n",
        "            return \"artist_info_query\"\n",
        "        elif intent == \"RECOMMENDATIONS\":\n",
        "            return \"recommendations_query\"\n",
        "        elif intent == \"GENRE_EXPLORATION\":\n",
        "            return \"genre_query\"\n",
        "        elif intent == \"LISTENING_ANALYSIS\":\n",
        "            return \"listening_query\"\n",
        "        else:\n",
        "            return \"listening_query\"  # Default fallback\n",
        "\n",
        "    # Set up the workflow\n",
        "    workflow.set_entry_point(\"classify_intent\")\n",
        "\n",
        "    workflow.add_conditional_edges(\n",
        "        \"classify_intent\",\n",
        "        route_after_intent,\n",
        "        {\n",
        "            \"artist_info_query\": \"artist_info_query\",\n",
        "            \"recommendations_query\": \"recommendations_query\",\n",
        "            \"genre_query\": \"genre_query\",\n",
        "            \"listening_query\": \"listening_query\"\n",
        "        }\n",
        "    )\n",
        "\n",
        "    # All query nodes lead to execution\n",
        "    workflow.add_edge(\"artist_info_query\", \"execute_query\")\n",
        "    workflow.add_edge(\"recommendations_query\", \"execute_query\")\n",
        "    workflow.add_edge(\"genre_query\", \"execute_query\")\n",
        "    workflow.add_edge(\"listening_query\", \"execute_query\")\n",
        "\n",
        "    # After execution, potentially call API, then generate response\n",
        "    workflow.add_edge(\"execute_query\", \"api_call\")\n",
        "    workflow.add_edge(\"api_call\", \"generate_response\")\n",
        "    workflow.add_edge(\"generate_response\", END)\n",
        "\n",
        "    return workflow.compile()\n",
        "\n",
        "# Create the agent\n",
        "print(\"🤗 Creating Hugging Face + LangGraph music discovery agent...\")\n",
        "agent = create_hf_music_agent()\n",
        "print(\"✅ Agent created successfully!\")"
      ],
      "metadata": {
        "colab": {
          "base_uri": "https://localhost:8080/"
        },
        "id": "OTrrcDQ7vlc8",
        "outputId": "a8c92080-d269-4376-eaed-3cbdfc4ff6aa"
      },
      "execution_count": 4,
      "outputs": [
        {
          "output_type": "stream",
          "name": "stdout",
          "text": [
            "🤗 Creating Hugging Face + LangGraph music discovery agent...\n",
            "✅ Agent created successfully!\n"
          ]
        }
      ]
    },
    {
      "cell_type": "markdown",
      "source": [
        "## Interface"
      ],
      "metadata": {
        "id": "g7lIXHmhv9fC"
      }
    },
    {
      "cell_type": "code",
      "source": [
        "# CELL 5: SIMPLE CHAT\n",
        "def ask_agent(query: str):\n",
        "    \"\"\"Simple function to ask the agent a question\"\"\"\n",
        "    initial_state = {\n",
        "        \"user_query\": query,\n",
        "        \"intent\": \"\",\n",
        "        \"confidence\": 0.0,\n",
        "        \"entities\": [],\n",
        "        \"sql_query\": \"\",\n",
        "        \"query_results\": [],\n",
        "        \"api_results\": [],\n",
        "        \"response\": \"\",\n",
        "        \"error_message\": \"\",\n",
        "        \"needs_api_call\": False\n",
        "    }\n",
        "\n",
        "    try:\n",
        "        result = agent.invoke(initial_state)\n",
        "\n",
        "        if result.get(\"error_message\"):\n",
        "            print(f\"❌ Error: {result['error_message']}\")\n",
        "        else:\n",
        "            print(\"🎵 Response:\")\n",
        "            print(result[\"response\"])\n",
        "\n",
        "        return result\n",
        "    except Exception as e:\n",
        "        print(f\"❌ Error: {e}\")\n",
        "        return {\"error_message\": str(e)}\n",
        "\n",
        "# Usage:\n",
        "ask_agent(\"What are my top 5 artists?\")"
      ],
      "metadata": {
        "colab": {
          "base_uri": "https://localhost:8080/"
        },
        "id": "z3AvoQJfwIDe",
        "outputId": "14260801-e548-44ca-ca5c-99d18816c097"
      },
      "execution_count": 5,
      "outputs": [
        {
          "output_type": "stream",
          "name": "stdout",
          "text": [
            "HF API returned 401\n",
            "🎯 Intent: LISTENING_ANALYSIS (confidence: 0.80)\n",
            "🏷️ Entities: ['5']\n",
            "📊 Analyzing your top 5 artists\n",
            "📊 Query executed successfully. Found 5 results.\n",
            "Sample results:\n",
            "  1. ['artist_name', 'playcount', 'rank']...\n",
            "  2. ['artist_name', 'playcount', 'rank']...\n",
            "✅ Response generated successfully\n",
            "🎵 Response:\n",
            "🎵 **Your Top Artists:**\n",
            "\n",
            "1. **Tomas Andersson Wij** - 1370 plays (seen live,indie,swedish,pop,scandinavian,Sweden,in...)\n",
            "2. **The Radio Dept.** - 1145 plays (seen live,indie,swedish,Dreamy,pop,scandinavian,Sw...)\n",
            "3. **M83** - 856 plays (seen live,indie,Dreamy,pop,chillout,electronic,ele...)\n",
            "4. **Bob Dylan** - 811 plays (seen live,indie,pop,singer-songwriter,american,gen...)\n",
            "5. **Håkan Hellström** - 755 plays (seen live,indie,swedish,Swedish Pop,pop,scandinavi...)\n",
            "\n"
          ]
        },
        {
          "output_type": "execute_result",
          "data": {
            "text/plain": [
              "{'user_query': 'What are my top 5 artists?',\n",
              " 'intent': 'LISTENING_ANALYSIS',\n",
              " 'confidence': 0.8,\n",
              " 'entities': ['5'],\n",
              " 'sql_query': \"\\n    SELECT \\n        a.name as artist_name,\\n        uta.playcount,\\n        uta.rank,\\n        GROUP_CONCAT(DISTINCT t.name) as tags\\n    FROM user_top_artists uta\\n    JOIN artists a ON uta.artist_id = a.artist_id\\n    LEFT JOIN artist_tags at ON a.artist_id = at.artist_id\\n    LEFT JOIN tags t ON at.tag_id = t.tag_id\\n    WHERE uta.time_period = 'overall'\\n    GROUP BY a.artist_id, a.name, uta.playcount, uta.rank\\n    ORDER BY uta.rank\\n    LIMIT 5\\n    \",\n",
              " 'query_results': [{'artist_name': 'Tomas Andersson Wij',\n",
              "   'playcount': 1370,\n",
              "   'rank': 1,\n",
              "   'tags': 'seen live,indie,swedish,pop,scandinavian,Sweden,indie pop,singer-songwriter,spotify,romantic,Awesome,00s,rock,alternative,male vocalists,svenskt,sett live,nordic,folk,favorites,emo,acoustic,stockholm,:To listen to again later:,christian,spiritual,guitar,folk-rock,singer,folk pop,singer songwriter,cool,Sverige,seen them live,jag alskar svensk javlar,svensk topp100,svensk,people who enjoy making love to their guitar mistresses in public aka the singer-songwriter syndrome victims,good music,tomas andersson wij,Best of 2005,acoustique,Artist,glasses,Swedish Folk-Rock,Seen Live 06,Favvo,helsingland,tro,Romantical,folkpop,Carpet Crawler,fun covers,swedish songwriter,Swedish Music,Andre Hazes,tomas,vemod,to listen for jan,suburb,hopp,0 play yet,Borderless,vocalist in the glasses,Artister som ska checkas upp,Blues from Sverige,Tommy och hans mamma,Halsningland,andersso nwij,gwerard jolinjk'},\n",
              "  {'artist_name': 'The Radio Dept.',\n",
              "   'playcount': 1145,\n",
              "   'rank': 2,\n",
              "   'tags': 'seen live,indie,swedish,Dreamy,pop,scandinavian,Sweden,chillout,electronic,electronica,ambient,indie pop,experimental,00s,post-rock,indie rock,rock,alternative,male vocalists,indietronica,synthpop,Lo-Fi,dream pop,beautiful,twee,shoegaze,Swedish indie,noise pop,dreampop,newgaze,twee pop,shoegazer,Labrador,labrador records,lund'},\n",
              "  {'artist_name': 'M83',\n",
              "   'playcount': 856,\n",
              "   'rank': 3,\n",
              "   'tags': 'seen live,indie,Dreamy,pop,chillout,electronic,electronica,ambient,indie pop,instrumental,electro,idm,experimental,00s,post-rock,post rock,indie rock,rock,alternative,trip-hop,french,electropop,france,indietronica,synth pop,new wave,synthpop,dream pop,ethereal,psychedelic,indie electronic,shoegaze,atmospheric,ambient pop,epic,shoegazing,newgaze,m83,shoegazer'},\n",
              "  {'artist_name': 'Bob Dylan',\n",
              "   'playcount': 811,\n",
              "   'rank': 4,\n",
              "   'tags': 'seen live,indie,pop,singer-songwriter,american,genius,classic,USA,00s,rock,alternative,90s,male vocalists,oldies,80s,folk,favorites,acoustic,blues,60s,guitar,70s,folk-rock,poetry,classic rock,legend,folk rock,poet,Protest,country,americana,country rock,political,singer songwriter,Great Lyricists,blues rock,Minnesota,Bob Dylan,Dylan,harmonica,political folk'},\n",
              "  {'artist_name': 'Håkan Hellström',\n",
              "   'playcount': 755,\n",
              "   'rank': 5,\n",
              "   'tags': 'seen live,indie,swedish,Swedish Pop,pop,scandinavian,Sweden,indie pop,singer-songwriter,00s,indie rock,rock,alternative,male vocalists,svenskt,sett live,favorites,alternative rock,happy,gothenburg,goteborg,göteborg,gbg,Sverige,Hakan Hellstrom,svensk,svensk pop'}],\n",
              " 'api_results': [],\n",
              " 'response': '🎵 **Your Top Artists:**\\n\\n1. **Tomas Andersson Wij** - 1370 plays (seen live,indie,swedish,pop,scandinavian,Sweden,in...)\\n2. **The Radio Dept.** - 1145 plays (seen live,indie,swedish,Dreamy,pop,scandinavian,Sw...)\\n3. **M83** - 856 plays (seen live,indie,Dreamy,pop,chillout,electronic,ele...)\\n4. **Bob Dylan** - 811 plays (seen live,indie,pop,singer-songwriter,american,gen...)\\n5. **Håkan Hellström** - 755 plays (seen live,indie,swedish,Swedish Pop,pop,scandinavi...)\\n',\n",
              " 'error_message': '',\n",
              " 'needs_api_call': False}"
            ]
          },
          "metadata": {},
          "execution_count": 5
        }
      ]
    }
  ]
}